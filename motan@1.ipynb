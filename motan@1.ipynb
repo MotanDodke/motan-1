{
 "cells": [
  {
   "cell_type": "markdown",
   "id": "8b0d468a",
   "metadata": {},
   "source": [
    "# slicing"
   ]
  },
  {
   "cell_type": "code",
   "execution_count": 1,
   "id": "189995af",
   "metadata": {},
   "outputs": [],
   "source": [
    "#Extract a sublist using colon (:) syntax\n"
   ]
  },
  {
   "cell_type": "code",
   "execution_count": 2,
   "id": "ba7d674e",
   "metadata": {},
   "outputs": [
    {
     "name": "stdout",
     "output_type": "stream",
     "text": [
      "['gaurav', 'roshan', 'tushar', 'motan']\n",
      "['motan', 'tushar']\n",
      "['motan', 'tushar', 'roshan']\n",
      "['gaurav', 'roshan', 'tushar', 'motan']\n"
     ]
    }
   ],
   "source": [
    "list = [\"motan\", \"tushar\", \"roshan\", \"gaurav\"]\n",
    "first_two = list[0:2]  # first_two will contain [\"motan\", \"tushar\"]\n",
    "everything_except_last = list[:-1]  # everything_except_last will contain [\"motan\", \"tushar\", \"roshan\"]\n",
    "list = list[::-1]  # list will contain a reversed copy of the list\n",
    "\n",
    "print(list)\n",
    "print(first_two)\n",
    "print(everything_except_last)\n",
    "print(list)"
   ]
  },
  {
   "cell_type": "code",
   "execution_count": null,
   "id": "14d027bc",
   "metadata": {},
   "outputs": [],
   "source": []
  },
  {
   "cell_type": "markdown",
   "id": "490b715c",
   "metadata": {},
   "source": [
    "# Accessing Elements"
   ]
  },
  {
   "cell_type": "code",
   "execution_count": 3,
   "id": "eb37066b",
   "metadata": {},
   "outputs": [],
   "source": [
    "\n",
    "#Use zero-based indexing to access elements"
   ]
  },
  {
   "cell_type": "code",
   "execution_count": 4,
   "id": "963e8a77",
   "metadata": {},
   "outputs": [],
   "source": [
    "my_list = [\"motan\", \"tushar\", \"roshan\", \"gaurav\"]\n",
    "emp_name = my_list[0]# emp_name will contain \"motan\"\n",
    "emp_name1 = my_list[3] \n",
    "last_emp_name = my_list[-1]  # last_emp_name will contain \"gaurav\" (negative indexing)"
   ]
  },
  {
   "cell_type": "code",
   "execution_count": 5,
   "id": "c26d1b40",
   "metadata": {},
   "outputs": [
    {
     "name": "stdout",
     "output_type": "stream",
     "text": [
      "['motan', 'tushar', 'roshan', 'gaurav']\n",
      "motan\n",
      "gaurav\n",
      "gaurav\n"
     ]
    }
   ],
   "source": [
    "print(my_list)\n",
    "print(emp_name)\n",
    "print(emp_name1)\n",
    "\n",
    "print(last_emp_name)"
   ]
  },
  {
   "cell_type": "markdown",
   "id": "0368e567",
   "metadata": {},
   "source": [
    "# Append Function"
   ]
  },
  {
   "cell_type": "code",
   "execution_count": 6,
   "id": "7ce01b74",
   "metadata": {},
   "outputs": [],
   "source": [
    "#Add an element to the end of list"
   ]
  },
  {
   "cell_type": "code",
   "execution_count": 7,
   "id": "c71f2b9b",
   "metadata": {},
   "outputs": [
    {
     "data": {
      "text/plain": [
       "['motan', 'tushar', 'roshan', 'gaurav']"
      ]
     },
     "execution_count": 7,
     "metadata": {},
     "output_type": "execute_result"
    }
   ],
   "source": [
    "my_list = [\"motan\", \"tushar\", \"roshan\", \"gaurav\"]\n",
    "my_list"
   ]
  },
  {
   "cell_type": "code",
   "execution_count": 10,
   "id": "e6a425ea",
   "metadata": {},
   "outputs": [],
   "source": [
    "my_list.append(\"sumit\")  # Add \"sumit\" to the end"
   ]
  },
  {
   "cell_type": "code",
   "execution_count": 11,
   "id": "0d1e40d1",
   "metadata": {},
   "outputs": [
    {
     "data": {
      "text/plain": [
       "['motan', 'tushar', 'roshan', 'gaurav', 'sumit', 'sumit']"
      ]
     },
     "execution_count": 11,
     "metadata": {},
     "output_type": "execute_result"
    }
   ],
   "source": [
    "\n",
    "my_list"
   ]
  },
  {
   "cell_type": "markdown",
   "id": "5d518dfe",
   "metadata": {},
   "source": [
    "# Insert Function"
   ]
  },
  {
   "cell_type": "code",
   "execution_count": 12,
   "id": "ac2dbf82",
   "metadata": {},
   "outputs": [],
   "source": [
    "#Insert an element at a specific index"
   ]
  },
  {
   "cell_type": "code",
   "execution_count": 13,
   "id": "6987681c",
   "metadata": {},
   "outputs": [
    {
     "data": {
      "text/plain": [
       "['motan', 'tushar', 'roshan', 'gaurav']"
      ]
     },
     "execution_count": 13,
     "metadata": {},
     "output_type": "execute_result"
    }
   ],
   "source": [
    "my_list = [\"motan\", \"tushar\", \"roshan\", \"gaurav\"]\n",
    "my_list\n"
   ]
  },
  {
   "cell_type": "code",
   "execution_count": 14,
   "id": "6a0eadf4",
   "metadata": {},
   "outputs": [],
   "source": [
    "\n",
    "my_list.insert(3, \"sumit\")  # Insert \"sumit\" at index 3"
   ]
  },
  {
   "cell_type": "code",
   "execution_count": 15,
   "id": "b4f1aad5",
   "metadata": {},
   "outputs": [
    {
     "data": {
      "text/plain": [
       "['motan', 'tushar', 'roshan', 'sumit', 'gaurav']"
      ]
     },
     "execution_count": 15,
     "metadata": {},
     "output_type": "execute_result"
    }
   ],
   "source": [
    "my_list"
   ]
  },
  {
   "cell_type": "markdown",
   "id": "97c8a767",
   "metadata": {},
   "source": [
    "# Extend Function"
   ]
  },
  {
   "cell_type": "code",
   "execution_count": 16,
   "id": "3abe7296",
   "metadata": {},
   "outputs": [],
   "source": [
    "#Add all elements from an iterable"
   ]
  },
  {
   "cell_type": "code",
   "execution_count": 17,
   "id": "91d8e987",
   "metadata": {},
   "outputs": [
    {
     "data": {
      "text/plain": [
       "['motan', 'tushar', 'roshan', 'gaurav']"
      ]
     },
     "execution_count": 17,
     "metadata": {},
     "output_type": "execute_result"
    }
   ],
   "source": [
    "my_list = [\"motan\", \"tushar\", \"roshan\", \"gaurav\"]\n",
    "my_list"
   ]
  },
  {
   "cell_type": "code",
   "execution_count": 18,
   "id": "c0316939",
   "metadata": {},
   "outputs": [],
   "source": [
    "\n",
    "my_list.extend([\"mohini\", \"ajju\"])  # Add all elements from a list"
   ]
  },
  {
   "cell_type": "code",
   "execution_count": 19,
   "id": "3a1d7eeb",
   "metadata": {},
   "outputs": [
    {
     "data": {
      "text/plain": [
       "['motan', 'tushar', 'roshan', 'gaurav', 'mohini', 'ajju']"
      ]
     },
     "execution_count": 19,
     "metadata": {},
     "output_type": "execute_result"
    }
   ],
   "source": [
    "\n",
    "my_list"
   ]
  },
  {
   "cell_type": "markdown",
   "id": "e7fcdaba",
   "metadata": {},
   "source": [
    "# Remove Function"
   ]
  },
  {
   "cell_type": "code",
   "execution_count": 22,
   "id": "218387cd",
   "metadata": {},
   "outputs": [],
   "source": [
    "#The remove function method removes a given element from the list."
   ]
  },
  {
   "cell_type": "code",
   "execution_count": 23,
   "id": "f4a43ab2",
   "metadata": {},
   "outputs": [
    {
     "data": {
      "text/plain": [
       "['motan', 'tushar', 'roshan', 'gaurav']"
      ]
     },
     "execution_count": 23,
     "metadata": {},
     "output_type": "execute_result"
    }
   ],
   "source": [
    "my_list = [\"motan\", \"tushar\", \"roshan\", \"gaurav\"]\n",
    "my_list"
   ]
  },
  {
   "cell_type": "code",
   "execution_count": 24,
   "id": "f52ef641",
   "metadata": {},
   "outputs": [],
   "source": [
    "my_list.remove(\"tushar\")  # Remove the  \"tushar\""
   ]
  },
  {
   "cell_type": "code",
   "execution_count": 25,
   "id": "79e98aaf",
   "metadata": {},
   "outputs": [
    {
     "data": {
      "text/plain": [
       "['motan', 'roshan', 'gaurav']"
      ]
     },
     "execution_count": 25,
     "metadata": {},
     "output_type": "execute_result"
    }
   ],
   "source": [
    "my_list"
   ]
  },
  {
   "cell_type": "markdown",
   "id": "33da5098",
   "metadata": {},
   "source": [
    "# Pop Function"
   ]
  },
  {
   "cell_type": "code",
   "execution_count": 27,
   "id": "0d7837fa",
   "metadata": {},
   "outputs": [],
   "source": [
    "#Pop function removes element at a specific index from the list."
   ]
  },
  {
   "cell_type": "code",
   "execution_count": 28,
   "id": "bd2a8d7b",
   "metadata": {},
   "outputs": [
    {
     "data": {
      "text/plain": [
       "['motan', 'tushar', 'roshan', 'gaurav']"
      ]
     },
     "execution_count": 28,
     "metadata": {},
     "output_type": "execute_result"
    }
   ],
   "source": [
    "my_list = [\"motan\", \"tushar\", \"roshan\", \"gaurav\"]\n",
    "my_list"
   ]
  },
  {
   "cell_type": "code",
   "execution_count": 29,
   "id": "aac3f65c",
   "metadata": {},
   "outputs": [],
   "source": [
    "removed_emp_name = my_list.pop(1)  # Remove and return the element at index 2"
   ]
  },
  {
   "cell_type": "code",
   "execution_count": 30,
   "id": "10d9f902",
   "metadata": {},
   "outputs": [
    {
     "data": {
      "text/plain": [
       "['motan', 'roshan', 'gaurav']"
      ]
     },
     "execution_count": 30,
     "metadata": {},
     "output_type": "execute_result"
    }
   ],
   "source": [
    "\n",
    "my_list"
   ]
  },
  {
   "cell_type": "markdown",
   "id": "9b3869aa",
   "metadata": {},
   "source": [
    "# Clear Function"
   ]
  },
  {
   "cell_type": "code",
   "execution_count": 31,
   "id": "16192775",
   "metadata": {},
   "outputs": [],
   "source": [
    "#Clear function method removes all items from the list making it an empty list."
   ]
  },
  {
   "cell_type": "code",
   "execution_count": 32,
   "id": "3ac44a25",
   "metadata": {},
   "outputs": [
    {
     "data": {
      "text/plain": [
       "['motan', 'tushar', 'roshan', 'gaurav']"
      ]
     },
     "execution_count": 32,
     "metadata": {},
     "output_type": "execute_result"
    }
   ],
   "source": [
    "my_list = [\"motan\", \"tushar\", \"roshan\", \"gaurav\"]\n",
    "my_list"
   ]
  },
  {
   "cell_type": "code",
   "execution_count": 33,
   "id": "4475a469",
   "metadata": {},
   "outputs": [],
   "source": [
    "my_list.clear()"
   ]
  },
  {
   "cell_type": "code",
   "execution_count": 34,
   "id": "490946ce",
   "metadata": {},
   "outputs": [
    {
     "data": {
      "text/plain": [
       "[]"
      ]
     },
     "execution_count": 34,
     "metadata": {},
     "output_type": "execute_result"
    }
   ],
   "source": [
    "my_list"
   ]
  },
  {
   "cell_type": "markdown",
   "id": "936e5248",
   "metadata": {},
   "source": [
    "# Count Function"
   ]
  },
  {
   "cell_type": "code",
   "execution_count": 35,
   "id": "37ba9372",
   "metadata": {},
   "outputs": [],
   "source": [
    "\n",
    "#This function method returns the count of the occurrences of a given element in a list"
   ]
  },
  {
   "cell_type": "code",
   "execution_count": 36,
   "id": "91d28e1b",
   "metadata": {},
   "outputs": [
    {
     "data": {
      "text/plain": [
       "['motan', 'tushar', 'roshan', 'gaurav', 'gaurav']"
      ]
     },
     "execution_count": 36,
     "metadata": {},
     "output_type": "execute_result"
    }
   ],
   "source": [
    "my_list = [\"motan\", \"tushar\", \"roshan\", \"gaurav\",\"gaurav\"]\n",
    "my_list"
   ]
  },
  {
   "cell_type": "code",
   "execution_count": 37,
   "id": "90523bd0",
   "metadata": {},
   "outputs": [
    {
     "data": {
      "text/plain": [
       "2"
      ]
     },
     "execution_count": 37,
     "metadata": {},
     "output_type": "execute_result"
    }
   ],
   "source": [
    "\n",
    "my_list.count(\"gaurav\")"
   ]
  },
  {
   "cell_type": "code",
   "execution_count": 38,
   "id": "900e3f79",
   "metadata": {},
   "outputs": [
    {
     "data": {
      "text/plain": [
       "1"
      ]
     },
     "execution_count": 38,
     "metadata": {},
     "output_type": "execute_result"
    }
   ],
   "source": [
    "\n",
    "my_list.count(\"tushar\")"
   ]
  },
  {
   "cell_type": "markdown",
   "id": "1b2ca0c3",
   "metadata": {},
   "source": [
    "# Sort Function"
   ]
  },
  {
   "cell_type": "code",
   "execution_count": 40,
   "id": "239de8d1",
   "metadata": {},
   "outputs": [],
   "source": [
    "\n",
    "#Sort the list in ascending order (in-place)"
   ]
  },
  {
   "cell_type": "code",
   "execution_count": 41,
   "id": "fa479524",
   "metadata": {},
   "outputs": [
    {
     "data": {
      "text/plain": [
       "['motan', 'tushar', 'roshan', 'gaurav']"
      ]
     },
     "execution_count": 41,
     "metadata": {},
     "output_type": "execute_result"
    }
   ],
   "source": [
    "my_list = [\"motan\", \"tushar\", \"roshan\", \"gaurav\"]\n",
    "my_list"
   ]
  },
  {
   "cell_type": "code",
   "execution_count": 42,
   "id": "b824ebfc",
   "metadata": {},
   "outputs": [],
   "source": [
    "my_list.sort()  # Sort in ascending order (in-place)"
   ]
  },
  {
   "cell_type": "code",
   "execution_count": 43,
   "id": "103b560c",
   "metadata": {},
   "outputs": [
    {
     "data": {
      "text/plain": [
       "['gaurav', 'motan', 'roshan', 'tushar']"
      ]
     },
     "execution_count": 43,
     "metadata": {},
     "output_type": "execute_result"
    }
   ],
   "source": [
    "my_list"
   ]
  },
  {
   "cell_type": "code",
   "execution_count": 44,
   "id": "3fd2da0d",
   "metadata": {},
   "outputs": [
    {
     "data": {
      "text/plain": [
       "[20, 15, 45, 27, 7, 9, 18, 23, 11, 12, 5, 87]"
      ]
     },
     "execution_count": 44,
     "metadata": {},
     "output_type": "execute_result"
    }
   ],
   "source": [
    "num = [20,15,45,27,7,9,18,23,11,12,5,87,]\n",
    "num"
   ]
  },
  {
   "cell_type": "code",
   "execution_count": 45,
   "id": "e6f528d2",
   "metadata": {},
   "outputs": [],
   "source": [
    "num.sort()"
   ]
  },
  {
   "cell_type": "code",
   "execution_count": 46,
   "id": "f304e43e",
   "metadata": {},
   "outputs": [
    {
     "data": {
      "text/plain": [
       "[5, 7, 9, 11, 12, 15, 18, 20, 23, 27, 45, 87]"
      ]
     },
     "execution_count": 46,
     "metadata": {},
     "output_type": "execute_result"
    }
   ],
   "source": [
    "\n",
    "num"
   ]
  },
  {
   "cell_type": "markdown",
   "id": "dda480bf",
   "metadata": {},
   "source": [
    "# Min Function"
   ]
  },
  {
   "cell_type": "code",
   "execution_count": 47,
   "id": "b4189cab",
   "metadata": {},
   "outputs": [],
   "source": [
    "\n",
    "#Min function returns the smallest element."
   ]
  },
  {
   "cell_type": "code",
   "execution_count": 50,
   "id": "9a301fd6",
   "metadata": {},
   "outputs": [
    {
     "data": {
      "text/plain": [
       "[20, 15, 45, 25, 7, 9, 18, 23, 11, 198, 5, 35]"
      ]
     },
     "execution_count": 50,
     "metadata": {},
     "output_type": "execute_result"
    }
   ],
   "source": [
    "num = [20,15,45,25,7,9,18,23,11,198,5,35,]\n",
    "num\n"
   ]
  },
  {
   "cell_type": "code",
   "execution_count": 51,
   "id": "2462ec79",
   "metadata": {},
   "outputs": [
    {
     "data": {
      "text/plain": [
       "5"
      ]
     },
     "execution_count": 51,
     "metadata": {},
     "output_type": "execute_result"
    }
   ],
   "source": [
    "\n",
    "min(num)"
   ]
  },
  {
   "cell_type": "markdown",
   "id": "414317d2",
   "metadata": {},
   "source": [
    "# Max Function"
   ]
  },
  {
   "cell_type": "code",
   "execution_count": 52,
   "id": "a892a3b3",
   "metadata": {},
   "outputs": [],
   "source": [
    "\n",
    "#Max function return the largest element."
   ]
  },
  {
   "cell_type": "code",
   "execution_count": 53,
   "id": "0fa0d860",
   "metadata": {},
   "outputs": [
    {
     "data": {
      "text/plain": [
       "[20, 15, 45, 25, 7, 9, 18, 23, 11, 198, 5, 35]"
      ]
     },
     "execution_count": 53,
     "metadata": {},
     "output_type": "execute_result"
    }
   ],
   "source": [
    "num = [20,15,45,25,7,9,18,23,11,198,5,35,]\n",
    "num"
   ]
  },
  {
   "cell_type": "code",
   "execution_count": 54,
   "id": "0cc323eb",
   "metadata": {},
   "outputs": [
    {
     "data": {
      "text/plain": [
       "198"
      ]
     },
     "execution_count": 54,
     "metadata": {},
     "output_type": "execute_result"
    }
   ],
   "source": [
    "\n",
    "max(num)\n"
   ]
  },
  {
   "cell_type": "code",
   "execution_count": null,
   "id": "b6224d9a",
   "metadata": {},
   "outputs": [],
   "source": []
  }
 ],
 "metadata": {
  "kernelspec": {
   "display_name": "Python 3 (ipykernel)",
   "language": "python",
   "name": "python3"
  },
  "language_info": {
   "codemirror_mode": {
    "name": "ipython",
    "version": 3
   },
   "file_extension": ".py",
   "mimetype": "text/x-python",
   "name": "python",
   "nbconvert_exporter": "python",
   "pygments_lexer": "ipython3",
   "version": "3.11.5"
  }
 },
 "nbformat": 4,
 "nbformat_minor": 5
}
